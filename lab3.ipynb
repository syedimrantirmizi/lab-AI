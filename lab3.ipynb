{
 "cells": [
  {
   "cell_type": "code",
   "execution_count": 22,
   "metadata": {},
   "outputs": [
    {
     "name": "stdout",
     "output_type": "stream",
     "text": [
      "Prediction for (Overcast, Mild): Yes\n"
     ]
    }
   ],
   "source": [
    "import pandas as pd\n",
    "from sklearn import preprocessing \n",
    "from sklearn.neighbors import KNeighborsClassifier \n",
    "\n",
    "df = pd.read_csv(\"./weatherData.csv\")\n",
    "\n",
    "weather_encoder = preprocessing.LabelEncoder()\n",
    "Temperature_encoder = preprocessing.LabelEncoder()\n",
    "Play_encoder = preprocessing.LabelEncoder()\n",
    "df[\"Weather\"] = weather_encoder.fit_transform(df[\"Weather\"])\n",
    "df[\"Temperature\"] = Temperature_encoder.fit_transform(df[\"Temperature\"])\n",
    "df[\"Play\"] = Play_encoder.fit_transform(df[\"Play\"])\n",
    "\n",
    "features = df[['Weather', 'Temperature']].values\n",
    "\n",
    "target = df['Play'].values\n",
    "\n",
    "model = KNeighborsClassifier(n_neighbors=3, metric=\"euclidean\")\n",
    "\n",
    "model.fit(features,target)\n",
    "test_data = [[weather_encoder.transform(['Overcast'])[0], Temperature_encoder.transform(['Mild'])[0]]]\n",
    "predicted = model.predict(test_data)\n",
    "predicted_play = Play_encoder.inverse_transform(predicted)\n",
    "print(\"Prediction for (Overcast, Mild):\", predicted_play[0])\n"
   ]
  },
  {
   "cell_type": "code",
   "execution_count": null,
   "metadata": {},
   "outputs": [
    {
     "name": "stdout",
     "output_type": "stream",
     "text": [
      "[{'distanceValue': 3.0, 'coordinates': (3, 4), 'classification': 'Good'}, {'distanceValue': 3.605551275463989, 'coordinates': (1, 4), 'classification': 'Good'}, {'distanceValue': 4.0, 'coordinates': (7, 7), 'classification': 'Bad'}]\n",
      "the (3,7) value will result in Good\n"
     ]
    }
   ],
   "source": [
    "import pandas as pd\n",
    "from sklearn import preprocessing \n",
    "from sklearn.neighbors import KNeighborsClassifier \n",
    "import math\n",
    "df = pd.read_csv(\"./AcidData.csv\")\n",
    "x1 = 3\n",
    "x2 = 7\n",
    "distance = []\n",
    "K = 3\n",
    "good = 0\n",
    "bad = 0\n",
    "for i in range(len(df[\"X1 (Acid durability)\"].values)):\n",
    "    distance_value = math.sqrt(((df[\"X1 (Acid durability)\"].values[i] - 3)**2 + (df[\"X2 (Strength)\"].values[i] - 7)**2))\n",
    "    distance.append({\"distanceValue\" : distance_value,\n",
    "                     \"coordinates\" : (int(df[\"X1 (Acid durability)\"].values[i]),int(df[\"X2 (Strength)\"].values[i])),\n",
    "                     \"classification\" : df[\"Y (Classification)\"].values[i]\n",
    "                      })\n",
    "distance = sorted(distance, key=lambda d: d['distanceValue'])\n",
    "nearest_neighbors = distance[:K]\n",
    "for i in range(len(nearest_neighbors)):\n",
    "    if (nearest_neighbors[i].get(\"classification\") == \"Good\"):\n",
    "        good += 1\n",
    "        break\n",
    "    bad += 1\n",
    "if (good > bad):\n",
    "    print(f\"the ({x1},{x2}) value will result in Good\")\n",
    "else:\n",
    "    print(f\"the ({x1},{x2}) value will result in Bad\")\n",
    "\n"
   ]
  }
 ],
 "metadata": {
  "kernelspec": {
   "display_name": "Python 3",
   "language": "python",
   "name": "python3"
  },
  "language_info": {
   "codemirror_mode": {
    "name": "ipython",
    "version": 3
   },
   "file_extension": ".py",
   "mimetype": "text/x-python",
   "name": "python",
   "nbconvert_exporter": "python",
   "pygments_lexer": "ipython3",
   "version": "3.11.9"
  }
 },
 "nbformat": 4,
 "nbformat_minor": 2
}
