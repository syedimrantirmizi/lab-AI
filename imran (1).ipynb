{
 "cells": [
  {
   "cell_type": "code",
   "execution_count": 4,
   "id": "f7a644d8-aa64-4bf2-b745-4ba4a55b8946",
   "metadata": {},
   "outputs": [
    {
     "name": "stdout",
     "output_type": "stream",
     "text": [
      "15\n"
     ]
    }
   ],
   "source": [
    "message = int(input(\"enter number\"))\n",
    "print((((message + 3) * 2) - 4) + 3)\n",
    "#input given 5"
   ]
  },
  {
   "cell_type": "code",
   "execution_count": 34,
   "id": "8525ed75-e358-4715-8111-74c29ed48587",
   "metadata": {},
   "outputs": [
    {
     "name": "stdout",
     "output_type": "stream",
     "text": [
      "enter temperature in celsius 32\n"
     ]
    },
    {
     "name": "stdout",
     "output_type": "stream",
     "text": [
      "89.6\n"
     ]
    }
   ],
   "source": [
    "Celsius = int(input(\"enter temperature in celsius\"))\n",
    "Fahrenheit = ((Celsius * 1.8) + 32)\n",
    "print(Fahrenheit)"
   ]
  },
  {
   "cell_type": "code",
   "execution_count": 38,
   "id": "91269866-4835-4b72-97b2-3bb1bf5e925f",
   "metadata": {},
   "outputs": [
    {
     "name": "stdout",
     "output_type": "stream",
     "text": [
      "enter radius 2\n"
     ]
    },
    {
     "name": "stdout",
     "output_type": "stream",
     "text": [
      "12.566370614359172\n"
     ]
    }
   ],
   "source": [
    "import math\n",
    "r = int(input(\"enter radius\"))\n",
    "a = math.pi * r**2\n",
    "print(a)\n"
   ]
  },
  {
   "cell_type": "code",
   "execution_count": 102,
   "id": "2869fa33-e91b-461c-a02f-c8a96de31b29",
   "metadata": {},
   "outputs": [
    {
     "name": "stdout",
     "output_type": "stream",
     "text": [
      "enter color blue\n"
     ]
    },
    {
     "name": "stdout",
     "output_type": "stream",
     "text": [
      "blueblueblueblueblueblueblueblueblueblue\n",
      "blue                                blue\n",
      "blueblueblueblueblueblueblueblueblueblue\n"
     ]
    }
   ],
   "source": [
    "color = input(\"enter color\")\n",
    "\n",
    "print(color*10)\n",
    "print(color+ \" \" * 32 + color)\n",
    "print(color*10)"
   ]
  },
  {
   "cell_type": "code",
   "execution_count": 120,
   "id": "4e7daabc-e9a6-479b-83f2-5657a7b4a4b4",
   "metadata": {},
   "outputs": [
    {
     "name": "stdout",
     "output_type": "stream",
     "text": [
      "Original name with whitespace:\n",
      "\n",
      "\t   syed imran   \t\n",
      "\n",
      "Left stripped name:\n",
      "syed imran   \t\n",
      "\n",
      "Right stripped name:\n",
      "\n",
      "\t   syed imran\n",
      "Fully stripped name:\n",
      "syed imran\n"
     ]
    }
   ],
   "source": [
    "name = \"\\n\\t   syed imran   \\t\\n\"\n",
    "print(\"Original name with whitespace:\")\n",
    "print(name)\n",
    "print(\"Left stripped name:\")\n",
    "print(name.lstrip())\n",
    "print(\"Right stripped name:\")\n",
    "print(name.rstrip())\n",
    "print(\"Fully stripped name:\")\n",
    "print(name.strip())\n"
   ]
  },
  {
   "cell_type": "code",
   "execution_count": 126,
   "id": "4b48f200-bb99-465e-8dcb-b7db165405ef",
   "metadata": {},
   "outputs": [
    {
     "name": "stdout",
     "output_type": "stream",
     "text": [
      "enter number for table 1\n"
     ]
    },
    {
     "name": "stdout",
     "output_type": "stream",
     "text": [
      "1 x 1 = 1\n",
      "1 x 2 = 2\n",
      "1 x 3 = 3\n",
      "1 x 4 = 4\n",
      "1 x 5 = 5\n",
      "1 x 6 = 6\n",
      "1 x 7 = 7\n",
      "1 x 8 = 8\n",
      "1 x 9 = 9\n",
      "1 x 10 = 10\n"
     ]
    }
   ],
   "source": [
    "a = int(input(\"enter number for table\"))\n",
    "for i in range(1,11):\n",
    "    print(f\"{a} x {i} = {a*i}\")"
   ]
  },
  {
   "cell_type": "code",
   "execution_count": 130,
   "id": "f90ea837-2400-40cc-9d53-f7399b2de271",
   "metadata": {},
   "outputs": [
    {
     "name": "stdout",
     "output_type": "stream",
     "text": [
      "Islamabad is in Pakistan.\n",
      "multan is in Pakistan.\n",
      "sydney is in Australia.\n"
     ]
    }
   ],
   "source": [
    "def describe_city(city, country=\"Pakistan\"):\n",
    "    print(f\"{city} is in {country}.\")\n",
    "\n",
    "describe_city(\"Islamabad\")           \n",
    "describe_city(\"multan\")            \n",
    "describe_city(\"sydney\", \"Australia\")\n"
   ]
  },
  {
   "cell_type": "code",
   "execution_count": 132,
   "id": "9b106d19-2b43-4f93-9a59-51cc8832b620",
   "metadata": {},
   "outputs": [
    {
     "name": "stdout",
     "output_type": "stream",
     "text": [
      "5\n",
      "3\n",
      "0\n"
     ]
    }
   ],
   "source": [
    "def absolute_num(num):\n",
    "    if num < 0:\n",
    "        return -num  \n",
    "    else:\n",
    "        return num  \n",
    "\n",
    "print(absolute_num(-5))\n",
    "print(absolute_num(3)) \n",
    "print(absolute_num(0)) \n"
   ]
  },
  {
   "cell_type": "code",
   "execution_count": 11,
   "id": "17b812e8-4a9b-48f9-9b47-19a8b5cd1082",
   "metadata": {},
   "outputs": [
    {
     "name": "stdout",
     "output_type": "stream",
     "text": [
      "a\n",
      "a is a vowel\n"
     ]
    }
   ],
   "source": [
    "alphabet = str(input(\"Enter a alphabet\")).lower()\n",
    "print(alphabet)\n",
    "if (alphabet == \"a\" or alphabet == \"e\" or alphabet == \"i\" or alphabet == \"o\" or alphabet == \"u\"):\n",
    "    print(f\"{alphabet} is a vowel\")\n",
    "else:\n",
    "    print(f\"{alphabet} is consonant\")"
   ]
  },
  {
   "cell_type": "code",
   "execution_count": 24,
   "id": "19f50724",
   "metadata": {},
   "outputs": [
    {
     "name": "stdout",
     "output_type": "stream",
     "text": [
      "13 is a prime number\n"
     ]
    }
   ],
   "source": [
    "num = int(input(\"Enter a number\"))\n",
    "if num > 1:\n",
    "    for i in range(2, (num//2)+1):\n",
    "        if (num % i) == 0:\n",
    "            print(num, \"is not a prime number\")\n",
    "            break\n",
    "    else:\n",
    "        print(num, \"is a prime number\")\n",
    "else:\n",
    "    print(num, \"is not a prime number\")"
   ]
  },
  {
   "cell_type": "code",
   "execution_count": 25,
   "id": "0da0643a",
   "metadata": {},
   "outputs": [
    {
     "name": "stdout",
     "output_type": "stream",
     "text": [
      "0\n",
      "1\n",
      "2\n",
      "4\n",
      "5\n"
     ]
    }
   ],
   "source": [
    "for i in range(0,7):\n",
    "    if(i == 3 or i == 6):\n",
    "        continue\n",
    "    else:\n",
    "        print(i)"
   ]
  },
  {
   "cell_type": "code",
   "execution_count": 28,
   "id": "b4a024ff",
   "metadata": {},
   "outputs": [
    {
     "name": "stdout",
     "output_type": "stream",
     "text": [
      "1 \n",
      "\n",
      "2 2 \n",
      "\n",
      "3 3 3 \n",
      "\n",
      "4 4 4 4 \n",
      "\n",
      "5 5 5 5 5 \n",
      "\n"
     ]
    }
   ],
   "source": [
    "for i in range (1,6):\n",
    "    for j in range (0,i):\n",
    "        print(i,end = \" \")\n",
    "    print(\"\\n\")"
   ]
  },
  {
   "cell_type": "code",
   "execution_count": 34,
   "id": "e46b3dcd",
   "metadata": {},
   "outputs": [
    {
     "name": "stdout",
     "output_type": "stream",
     "text": [
      "person is a teenager (19)\n"
     ]
    }
   ],
   "source": [
    "age = int(input(\"enter age\"))\n",
    "if(age < 2):\n",
    "    print(f'person is a baby ({age})')\n",
    "elif(age >= 4 and age < 13 ):\n",
    "    print(f'person is a kid ({age})')\n",
    "elif(age >= 13 and age < 20):\n",
    "    print(f'person is a teenager ({age})')\n",
    "elif(age >= 20 and age < 65):\n",
    "    print(f'person is a adult ({age})')\n",
    "elif(age >= 65):\n",
    "    print(f'person is a elder ({age})')\n",
    "else:\n",
    "    print(f\"{age} is not a right number\")"
   ]
  }
 ],
 "metadata": {
  "kernelspec": {
   "display_name": "Python 3",
   "language": "python",
   "name": "python3"
  },
  "language_info": {
   "codemirror_mode": {
    "name": "ipython",
    "version": 3
   },
   "file_extension": ".py",
   "mimetype": "text/x-python",
   "name": "python",
   "nbconvert_exporter": "python",
   "pygments_lexer": "ipython3",
   "version": "3.13.0"
  }
 },
 "nbformat": 4,
 "nbformat_minor": 5
}
